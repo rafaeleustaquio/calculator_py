{
 "cells": [
  {
   "cell_type": "code",
   "execution_count": 45,
   "id": "d4d857d4-a21f-4da0-98b5-b1b3992f148c",
   "metadata": {},
   "outputs": [
    {
     "name": "stdout",
     "output_type": "stream",
     "text": [
      "Selecione o tipo de operação desejada: \n",
      "1 - Soma\n",
      "2- Subtração\n",
      "3 - Multiplicação \n",
      "4 - Divisão\n",
      "\n"
     ]
    },
    {
     "name": "stdin",
     "output_type": "stream",
     "text": [
      "Difite somente o número da opção:  4\n",
      "Digite o primeiro número:  10\n",
      "Digite o segundo número:  2\n"
     ]
    },
    {
     "name": "stdout",
     "output_type": "stream",
     "text": [
      "A resultado da divisão é 5.0\n"
     ]
    }
   ],
   "source": [
    "#Definindo tipos de operações:\n",
    "print('Selecione o tipo de operação desejada: ')\n",
    "print('1 - Soma\\n' '2- Subtração\\n''3 - Multiplicação \\n''4 - Divisão\\n')\n",
    "opcao = input('Difite somente o número da opção: ')\n",
    "num1 = 0\n",
    "num2 = 0\n",
    "if opcao == '1':\n",
    "    num1 = int(input('Digite o primeiro número: '))\n",
    "    num2 = int(input('Digite o segundo número: '))\n",
    "    print(\"A resultado da soma é\", num1+num2)\n",
    "elif opcao =='2':\n",
    "    num1 = int(input('Digite o primeiro número: '))\n",
    "    num2 = int(input('Digite o segundo número: '))\n",
    "    print(\"A resultado da subtração é\", num1-num2)\n",
    "elif opcao =='3':\n",
    "    num1 = int(input('Digite o primeiro número: '))\n",
    "    num2 = int(input('Digite o segundo número: '))\n",
    "    print(\"A resultado da multiplicação é\", num1*num2)\n",
    "elif opcao =='4':\n",
    "    num1 = int(input('Digite o primeiro número: '))\n",
    "    num2 = int(input('Digite o segundo número: '))\n",
    "    print(\"A resultado da divisão é\", num1/num2)\n",
    "else:\n",
    "    print(\"Você digitou uma opção inválida.\")"
   ]
  },
  {
   "cell_type": "code",
   "execution_count": null,
   "id": "d0fe3999-62e1-489a-b3b4-3e28a1dc30e9",
   "metadata": {},
   "outputs": [],
   "source": []
  }
 ],
 "metadata": {
  "kernelspec": {
   "display_name": "Python 3",
   "language": "python",
   "name": "python3"
  },
  "language_info": {
   "codemirror_mode": {
    "name": "ipython",
    "version": 3
   },
   "file_extension": ".py",
   "mimetype": "text/x-python",
   "name": "python",
   "nbconvert_exporter": "python",
   "pygments_lexer": "ipython3",
   "version": "3.8.8"
  }
 },
 "nbformat": 4,
 "nbformat_minor": 5
}
